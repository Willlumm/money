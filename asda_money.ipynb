{
 "cells": [
  {
   "cell_type": "markdown",
   "metadata": {},
   "source": [
    "https://www.geeksforgeeks.org/working-with-pdf-files-in-python/"
   ]
  },
  {
   "cell_type": "code",
   "execution_count": 84,
   "metadata": {},
   "outputs": [],
   "source": [
    "import re\n",
    "import pandas as pd\n",
    "from pypdf import PdfReader"
   ]
  },
  {
   "cell_type": "code",
   "execution_count": 85,
   "metadata": {},
   "outputs": [],
   "source": [
    "reader = PdfReader(\"asda_statements/February 2024.pdf\")\n",
    "page = reader.pages[0] \n",
    "text = page.extract_text()"
   ]
  },
  {
   "cell_type": "code",
   "execution_count": 86,
   "metadata": {},
   "outputs": [],
   "source": [
    "date_pattern        = r\"(\\d{1,2}\\s*[a-zA-Z]{3})\"\n",
    "description_pattern = r\"([^£]+)\"\n",
    "money_pattern       = r\"£(\\d+\\.\\d{2})\"\n",
    "row_pattern = r\"\\s+\".join([date_pattern, date_pattern, description_pattern, money_pattern])\n",
    "\n",
    "text = re.sub(r\"\\n\", \" \", text)\n",
    "rows = re.findall(row_pattern, text)"
   ]
  },
  {
   "cell_type": "code",
   "execution_count": 87,
   "metadata": {},
   "outputs": [],
   "source": [
    "col_names = (\"transaction_date\", \"posting_date\", \"description\", \"amount\")\n",
    "df = pd.DataFrame(rows, columns=col_names)"
   ]
  },
  {
   "cell_type": "code",
   "execution_count": 92,
   "metadata": {},
   "outputs": [
    {
     "data": {
      "text/plain": [
       "transaction_date    object\n",
       "posting_date        object\n",
       "description         object\n",
       "amount              object\n",
       "dtype: object"
      ]
     },
     "execution_count": 92,
     "metadata": {},
     "output_type": "execute_result"
    }
   ],
   "source": [
    "df.dtypes"
   ]
  },
  {
   "cell_type": "code",
   "execution_count": 90,
   "metadata": {},
   "outputs": [
    {
     "data": {
      "text/plain": [
       "0     5.50\n",
       "1     3.55\n",
       "2     1.58\n",
       "3    11.94\n",
       "4     6.50\n",
       "5    12.95\n",
       "6    25.75\n",
       "7    12.95\n",
       "8     6.50\n",
       "Name: amount, dtype: float64"
      ]
     },
     "execution_count": 90,
     "metadata": {},
     "output_type": "execute_result"
    }
   ],
   "source": [
    "df[\"amount\"] = pd.to_numeric(df.amount)"
   ]
  },
  {
   "cell_type": "code",
   "execution_count": 91,
   "metadata": {},
   "outputs": [
    {
     "data": {
      "text/html": [
       "<div>\n",
       "<style scoped>\n",
       "    .dataframe tbody tr th:only-of-type {\n",
       "        vertical-align: middle;\n",
       "    }\n",
       "\n",
       "    .dataframe tbody tr th {\n",
       "        vertical-align: top;\n",
       "    }\n",
       "\n",
       "    .dataframe thead th {\n",
       "        text-align: right;\n",
       "    }\n",
       "</style>\n",
       "<table border=\"1\" class=\"dataframe\">\n",
       "  <thead>\n",
       "    <tr style=\"text-align: right;\">\n",
       "      <th></th>\n",
       "      <th>transaction_date</th>\n",
       "      <th>posting_date</th>\n",
       "      <th>description</th>\n",
       "      <th>amount</th>\n",
       "    </tr>\n",
       "  </thead>\n",
       "  <tbody>\n",
       "    <tr>\n",
       "      <th>0</th>\n",
       "      <td>22 Jan</td>\n",
       "      <td>23 Jan</td>\n",
       "      <td>TFL TRAVEL CH TFL.GOV.UK/CP</td>\n",
       "      <td>5.50</td>\n",
       "    </tr>\n",
       "    <tr>\n",
       "      <th>1</th>\n",
       "      <td>24 Jan</td>\n",
       "      <td>25 Jan</td>\n",
       "      <td>ALDI 71 775 READING</td>\n",
       "      <td>3.55</td>\n",
       "    </tr>\n",
       "    <tr>\n",
       "      <th>2</th>\n",
       "      <td>27 Jan</td>\n",
       "      <td>29 Jan</td>\n",
       "      <td>ALDI 71 775 READING</td>\n",
       "      <td>1.58</td>\n",
       "    </tr>\n",
       "    <tr>\n",
       "      <th>3</th>\n",
       "      <td>27 Jan</td>\n",
       "      <td>29 Jan</td>\n",
       "      <td>ALDI 71 775 READING</td>\n",
       "      <td>11.94</td>\n",
       "    </tr>\n",
       "    <tr>\n",
       "      <th>4</th>\n",
       "      <td>29 Jan</td>\n",
       "      <td>30 Jan</td>\n",
       "      <td>SUMUP *SOUTH READING JUDREADING</td>\n",
       "      <td>6.50</td>\n",
       "    </tr>\n",
       "    <tr>\n",
       "      <th>5</th>\n",
       "      <td>30 Jan</td>\n",
       "      <td>31 Jan</td>\n",
       "      <td>ALDI 71 775 READING</td>\n",
       "      <td>12.95</td>\n",
       "    </tr>\n",
       "    <tr>\n",
       "      <th>6</th>\n",
       "      <td>01 Feb</td>\n",
       "      <td>02 Feb</td>\n",
       "      <td>TFL TRAVEL CH TFL.GOV.UK/CP</td>\n",
       "      <td>25.75</td>\n",
       "    </tr>\n",
       "    <tr>\n",
       "      <th>7</th>\n",
       "      <td>02 Feb</td>\n",
       "      <td>05 Feb</td>\n",
       "      <td>ALDI 71 775 READING</td>\n",
       "      <td>12.95</td>\n",
       "    </tr>\n",
       "    <tr>\n",
       "      <th>8</th>\n",
       "      <td>05 Feb</td>\n",
       "      <td>06 Feb</td>\n",
       "      <td>SUMUP *SOUTH READING JUDREADING</td>\n",
       "      <td>6.50</td>\n",
       "    </tr>\n",
       "  </tbody>\n",
       "</table>\n",
       "</div>"
      ],
      "text/plain": [
       "  transaction_date posting_date                      description amount\n",
       "0           22 Jan       23 Jan      TFL TRAVEL CH TFL.GOV.UK/CP   5.50\n",
       "1           24 Jan       25 Jan              ALDI 71 775 READING   3.55\n",
       "2           27 Jan       29 Jan              ALDI 71 775 READING   1.58\n",
       "3           27 Jan       29 Jan              ALDI 71 775 READING  11.94\n",
       "4           29 Jan       30 Jan  SUMUP *SOUTH READING JUDREADING   6.50\n",
       "5           30 Jan       31 Jan              ALDI 71 775 READING  12.95\n",
       "6           01 Feb       02 Feb      TFL TRAVEL CH TFL.GOV.UK/CP  25.75\n",
       "7           02 Feb       05 Feb              ALDI 71 775 READING  12.95\n",
       "8           05 Feb       06 Feb  SUMUP *SOUTH READING JUDREADING   6.50"
      ]
     },
     "execution_count": 91,
     "metadata": {},
     "output_type": "execute_result"
    }
   ],
   "source": [
    "df"
   ]
  }
 ],
 "metadata": {
  "kernelspec": {
   "display_name": "Python 3",
   "language": "python",
   "name": "python3"
  },
  "language_info": {
   "codemirror_mode": {
    "name": "ipython",
    "version": 3
   },
   "file_extension": ".py",
   "mimetype": "text/x-python",
   "name": "python",
   "nbconvert_exporter": "python",
   "pygments_lexer": "ipython3",
   "version": "3.9.5"
  }
 },
 "nbformat": 4,
 "nbformat_minor": 2
}
